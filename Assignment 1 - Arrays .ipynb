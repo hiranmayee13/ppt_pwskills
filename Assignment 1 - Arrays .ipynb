{
 "cells": [
  {
   "cell_type": "markdown",
   "id": "3a6d08b4-d69b-4954-a244-8e75d5b8cab0",
   "metadata": {},
   "source": [
    "# Assignment 1 - Arrays"
   ]
  },
  {
   "cell_type": "markdown",
   "id": "d08e243b-8ef7-4dee-9447-ed5000ad60ae",
   "metadata": {},
   "source": [
    "#### Question-1"
   ]
  },
  {
   "cell_type": "markdown",
   "id": "e6901826-52a6-4ffd-b0fe-39fda3fd52aa",
   "metadata": {},
   "source": [
    "<aside>\n",
    "💡 **Q1.** Given an array of integers nums and an integer target, return indices of the two numbers such that they add up to target.\n",
    "\n",
    "You may assume that each input would have exactly one solution, and you may not use the same element twice.\n",
    "\n",
    "You can return the answer in any order.\n",
    "\n",
    "**Example:**\n",
    "Input: nums = [2,7,11,15], target = 9\n",
    "Output0 [0,1]\n",
    "\n",
    "**Explanation:** Because nums[0] + nums[1] == 9, we return [0, 1][\n",
    "\n",
    "</aside>"
   ]
  },
  {
   "cell_type": "code",
   "execution_count": 19,
   "id": "58e7e308-3a0f-4c6d-8559-c7dbd1b97b48",
   "metadata": {},
   "outputs": [
    {
     "name": "stdin",
     "output_type": "stream",
     "text": [
      "Enter no. of Elements present in array: 4\n",
      "Enter index-0 element: 2\n",
      "Enter index-1 element: 7\n",
      "Enter index-2 element: 11\n",
      "Enter index-3 element: 15\n"
     ]
    },
    {
     "name": "stdout",
     "output_type": "stream",
     "text": [
      "Array is :[2, 7, 11, 15]\n"
     ]
    },
    {
     "name": "stdin",
     "output_type": "stream",
     "text": [
      "Enter Target Element : 9\n"
     ]
    },
    {
     "name": "stdout",
     "output_type": "stream",
     "text": [
      "[0, 1]\n"
     ]
    }
   ],
   "source": [
    "num = int(input('Enter no. of Elements present in array:'))\n",
    "arr = []\n",
    "for i in range(num):\n",
    "    ele = int(input(f'Enter index-{i} element:'))\n",
    "    arr.append(ele)\n",
    "print(f'Array is :{arr}')\n",
    "target = int(input('Enter Target Element :'))\n",
    "\n",
    "def sum_checkta(target,num,arr):\n",
    "    for j in range(num):\n",
    "        for k in range(j+1,num):\n",
    "            if(arr[j]+arr[k]==target):\n",
    "                return [j,k]\n",
    "ans = sum_checkta(target,num,arr)\n",
    "print(ans)"
   ]
  },
  {
   "cell_type": "markdown",
   "id": "10a45acf-c6b6-4257-ac87-91797deb1956",
   "metadata": {},
   "source": [
    "#### Question-2"
   ]
  },
  {
   "cell_type": "markdown",
   "id": "38030755-13e8-42e6-9b7d-8eb88a9a10be",
   "metadata": {},
   "source": [
    "<aside>\n",
    "💡 **Q2.** Given an integer array nums and an integer val, remove all occurrences of val in nums in-place. The order of the elements may be changed. Then return the number of elements in nums which are not equal to val.\n",
    "\n",
    "Consider the number of elements in nums which are not equal to val be k, to get accepted, you need to do the following things:\n",
    "\n",
    "- Change the array nums such that the first k elements of nums contain the elements which are not equal to val. The remaining elements of nums are not important as well as the size of nums.\n",
    "- Return k.\n",
    "\n",
    "**Example :**\n",
    "Input: nums = [3,2,2,3], val = 3\n",
    "Output: 2, nums = [2,2,_*,_*]\n",
    "\n",
    "**Explanation:** Your function should return k = 2, with the first two elements of nums being 2. It does not matter what you leave beyond the returned k (hence they are underscores)\n",
    "\n",
    "</aside>"
   ]
  },
  {
   "cell_type": "code",
   "execution_count": 31,
   "id": "5c832bff-6f71-4c6c-9053-5658fc1e073e",
   "metadata": {},
   "outputs": [
    {
     "name": "stdin",
     "output_type": "stream",
     "text": [
      "Enter no. of Elements present in array: 4\n",
      "Enter index-0 element: 3\n",
      "Enter index-1 element: 2\n",
      "Enter index-2 element: 2\n",
      "Enter index-3 element: 3\n"
     ]
    },
    {
     "name": "stdout",
     "output_type": "stream",
     "text": [
      "Array is :[3, 2, 2, 3]\n"
     ]
    },
    {
     "name": "stdin",
     "output_type": "stream",
     "text": [
      "Enter Removed Element : 3\n"
     ]
    },
    {
     "name": "stdout",
     "output_type": "stream",
     "text": [
      "Modified Array: [2, 2]\n",
      "Number of elements not equal to val: 2\n"
     ]
    }
   ],
   "source": [
    "num = int(input('Enter no. of Elements present in array:'))\n",
    "arr = []\n",
    "for i in range(num):\n",
    "    ele = int(input(f'Enter index-{i} element:'))\n",
    "    arr.append(ele)\n",
    "print(f'Array is :{arr}')\n",
    "remv = int(input('Enter Removed Element :'))\n",
    "\n",
    "def rermove(num,arr,remv):\n",
    "    i=0\n",
    "    for j in range(num):\n",
    "        if remv != arr[j]:\n",
    "            arr[i]=arr[j]\n",
    "            i=i+1\n",
    "    return i\n",
    "ans = rermove(num,arr,remv)\n",
    "print(\"Modified Array:\", arr[:ans])\n",
    "print(\"Number of elements not equal to val:\", ans)"
   ]
  },
  {
   "cell_type": "markdown",
   "id": "8a738fc3-5839-46d1-9984-2c2526baf7a6",
   "metadata": {},
   "source": [
    "#### Quesstion-3"
   ]
  },
  {
   "cell_type": "markdown",
   "id": "fffc5688-a4aa-4bee-a162-7e53ed11083f",
   "metadata": {},
   "source": [
    "<aside>\n",
    "💡 **Q3.** Given a sorted array of distinct integers and a target value, return the index if the target is found. If not, return the index where it would be if it were inserted in order.\n",
    "\n",
    "You must write an algorithm with O(log n) runtime complexity.\n",
    "\n",
    "**Example 1:**\n",
    "Input: nums = [1,3,5,6], target = 5\n",
    "\n",
    "Output: 2\n",
    "\n",
    "</aside>"
   ]
  },
  {
   "cell_type": "code",
   "execution_count": 37,
   "id": "d3149222-7d61-401a-a5ec-6aeddae3d017",
   "metadata": {},
   "outputs": [
    {
     "name": "stdin",
     "output_type": "stream",
     "text": [
      "Enter no. of Elements present in array: 4\n",
      "Enter index-0 element: 1\n",
      "Enter index-1 element: 3\n",
      "Enter index-2 element: 5\n",
      "Enter index-3 element: 6\n"
     ]
    },
    {
     "name": "stdout",
     "output_type": "stream",
     "text": [
      "Array is :[1, 3, 5, 6]\n"
     ]
    },
    {
     "name": "stdin",
     "output_type": "stream",
     "text": [
      "Enter search Element : 5\n"
     ]
    },
    {
     "name": "stdout",
     "output_type": "stream",
     "text": [
      "Output:2\n"
     ]
    }
   ],
   "source": [
    "num = int(input('Enter no. of Elements present in array:'))\n",
    "arr = []\n",
    "for i in range(num):\n",
    "    ele = int(input(f'Enter index-{i} element:'))\n",
    "    arr.append(ele)\n",
    "print(f'Array is :{arr}')\n",
    "target = int(input('Enter search Element :'))\n",
    "\n",
    "def found(num,arr,target):\n",
    "    for i in range(num):\n",
    "        if arr[i] == target:\n",
    "            return i\n",
    "    return 'Target not found'\n",
    "        \n",
    "ans = found(num,arr,target)\n",
    "print(f'Output:{ans}')"
   ]
  },
  {
   "cell_type": "markdown",
   "id": "64b9dc79-a931-4c89-9198-c196b68148be",
   "metadata": {},
   "source": [
    "#### Question-4"
   ]
  },
  {
   "cell_type": "markdown",
   "id": "1a47eba4-eeb1-40a0-8fbe-f43d44b1e5f2",
   "metadata": {},
   "source": [
    "<aside>\n",
    "💡 **Q4.** You are given a large integer represented as an integer array digits, where each digits[i] is the ith digit of the integer. The digits are ordered from most significant to least significant in left-to-right order. The large integer does not contain any leading 0's.\n",
    "\n",
    "Increment the large integer by one and return the resulting array of digits.\n",
    "\n",
    "**Example 1:**\n",
    "Input: digits = [1,2,3]\n",
    "Output: [1,2,4]\n",
    "\n",
    "**Explanation:** The array represents the integer 123.\n",
    "\n",
    "Incrementing by one gives 123 + 1 = 124.\n",
    "Thus, the result should be [1,2,4].\n",
    "\n",
    "</aside>"
   ]
  },
  {
   "cell_type": "code",
   "execution_count": 62,
   "id": "d4c5520e-9047-4f1a-b5d2-775d6a513445",
   "metadata": {},
   "outputs": [
    {
     "name": "stdin",
     "output_type": "stream",
     "text": [
      "Enter the number of elements present in the array:  3\n",
      "Enter element at index-0:  11\n",
      "Enter element at index-1:  2\n",
      "Enter element at index-2:  3\n"
     ]
    },
    {
     "name": "stdout",
     "output_type": "stream",
     "text": [
      "Array is: [11, 2, 3]\n",
      "Updated array: [11, 2, 4]\n"
     ]
    }
   ],
   "source": [
    "num = int(input('Enter the number of elements present in the array: '))\n",
    "arr = []\n",
    "for i in range(num):\n",
    "    ele = int(input(f'Enter element at index-{i}: '))\n",
    "    arr.append(ele)\n",
    "print(f'Array is: {arr}')\n",
    "if(arr[num-1]!=9):\n",
    "    arr[num-1] = arr[num-1] + 1\n",
    "    print(f'Updated array: {arr}')\n",
    "else:\n",
    "    arr.append(1)\n",
    "    arr.append(0)\n",
    "    print(arr)\n",
    "    \n",
    "#Enter the number of elements present in the array:  3\n",
    "#Enter element at index-0:  1\n",
    "#Enter element at index-1:  2\n",
    "#Enter element at index-2:  9\n",
    "#Array is: [1, 2, 9]\n",
    "#[1, 2, 9, 1, 0]'''"
   ]
  },
  {
   "cell_type": "markdown",
   "id": "e73d427e-307b-487a-a490-7d3a27e6c55d",
   "metadata": {},
   "source": [
    "#### Question-5"
   ]
  },
  {
   "cell_type": "markdown",
   "id": "513cca2e-0efc-45a1-9c84-5defd44e0b23",
   "metadata": {},
   "source": [
    "<aside>\n",
    "💡 **Q5.** You are given two integer arrays nums1 and nums2, sorted in non-decreasing order, and two integers m and n, representing the number of elements in nums1 and nums2 respectively.\n",
    "\n",
    "Merge nums1 and nums2 into a single array sorted in non-decreasing order.\n",
    "\n",
    "The final sorted array should not be returned by the function, but instead be stored inside the array nums1. To accommodate this, nums1 has a length of m + n, where the first m elements denote the elements that should be merged, and the last n elements are set to 0 and should be ignored. nums2 has a length of n.\n",
    "\n",
    "**Example 1:**\n",
    "Input: nums1 = [1,2,3,0,0,0], m = 3, nums2 = [2,5,6], n = 3\n",
    "Output: [1,2,2,3,5,6]\n",
    "\n",
    "**Explanation:** The arrays we are merging are [1,2,3] and [2,5,6].\n",
    "The result of the merge is [1,2,2,3,5,6] with the underlined elements coming from nums1.\n",
    "\n",
    "</aside>"
   ]
  },
  {
   "cell_type": "code",
   "execution_count": 70,
   "id": "5fdb0acd-154f-48d3-9251-9cd9556f8d15",
   "metadata": {},
   "outputs": [
    {
     "name": "stdin",
     "output_type": "stream",
     "text": [
      "Enter the number of elements present in the array:  6\n",
      "Enter element at index-0:  1\n",
      "Enter element at index-1:  2\n",
      "Enter element at index-2:  3\n",
      "Enter element at index-3:  0\n",
      "Enter element at index-4:  0\n",
      "Enter element at index-5:  0\n"
     ]
    },
    {
     "name": "stdout",
     "output_type": "stream",
     "text": [
      "Array is: [1, 2, 3, 0, 0, 0]\n"
     ]
    },
    {
     "name": "stdin",
     "output_type": "stream",
     "text": [
      "Enter the number of elements present in the array:  3\n",
      "Enter element at index-0:  2\n",
      "Enter element at index-1:  5\n",
      "Enter element at index-2:  6\n"
     ]
    },
    {
     "name": "stdout",
     "output_type": "stream",
     "text": [
      "Array is: [2, 5, 6]\n",
      "removal Array_1 is [1, 2, 3]\n",
      "removal Array_2 is [2, 5, 6]\n",
      "[1, 2, 2, 3, 5, 6]\n"
     ]
    }
   ],
   "source": [
    "num1 = int(input('Enter the number of elements present in the array: '))\n",
    "arr1 = []\n",
    "for i in range(num1):\n",
    "    ele = int(input(f'Enter element at index-{i}: '))\n",
    "    arr1.append(ele)\n",
    "print(f'Array is: {arr1}')\n",
    "\n",
    "num2 = int(input('Enter the number of elements present in the array: '))\n",
    "arr2 = []\n",
    "for i in range(num2):\n",
    "    ele = int(input(f'Enter element at index-{i}: '))\n",
    "    arr2.append(ele)\n",
    "print(f'Array is: {arr2}')\n",
    "arr_1=[]\n",
    "for i in range(num1):\n",
    "    if(arr1[i]!=0):\n",
    "        arr_1.append(arr1[i])\n",
    "    else:\n",
    "        pass\n",
    "arr_2=[]\n",
    "for i in range(num2):\n",
    "    if(arr2[i]!=0):\n",
    "        arr_2.append(arr2[i])\n",
    "    else:\n",
    "        pass\n",
    "print(f'removal Array_1 is {arr_1}')\n",
    "print(f'removal Array_2 is {arr_2}')\n",
    "merged_array = sorted(arr_1 + arr_2)\n",
    "print(merged_array)"
   ]
  },
  {
   "cell_type": "markdown",
   "id": "d7444a2d-9be0-4d2b-8c92-e88ffea4f2f6",
   "metadata": {},
   "source": [
    "#### Question-6"
   ]
  },
  {
   "cell_type": "markdown",
   "id": "b00b0f72-9fc7-484a-a3c9-1a8318f6e286",
   "metadata": {},
   "source": [
    "<aside>\n",
    "💡 **Q6.** Given an integer array nums, return true if any value appears at least twice in the array, and return false if every element is distinct.\n",
    "\n",
    "**Example 1:**\n",
    "Input: nums = [1,2,3,1]\n",
    "\n",
    "Output: true\n",
    "\n",
    "</aside>"
   ]
  },
  {
   "cell_type": "code",
   "execution_count": 76,
   "id": "d2bafdc4-e393-4847-b86a-cbbf24d41079",
   "metadata": {},
   "outputs": [
    {
     "name": "stdin",
     "output_type": "stream",
     "text": [
      "Enter the number of elements present in the array:  4\n",
      "Enter element at index-0:  1\n",
      "Enter element at index-1:  2\n",
      "Enter element at index-2:  3\n",
      "Enter element at index-3:  1\n"
     ]
    },
    {
     "name": "stdout",
     "output_type": "stream",
     "text": [
      "Array is: [1, 2, 3, 1]\n"
     ]
    },
    {
     "data": {
      "text/plain": [
       "True"
      ]
     },
     "execution_count": 76,
     "metadata": {},
     "output_type": "execute_result"
    }
   ],
   "source": [
    "num = int(input('Enter the number of elements present in the array: '))\n",
    "arr = []\n",
    "for i in range(num):\n",
    "    ele = int(input(f'Enter element at index-{i}: '))\n",
    "    arr.append(ele)\n",
    "print(f'Array is: {arr}')\n",
    "\n",
    "def checker(num,arr):\n",
    "    for i in range(num):\n",
    "        for j in range(i+1,num):\n",
    "            if(arr[i]==arr[j]):\n",
    "                return True\n",
    "        return False\n",
    "checker(num,arr)"
   ]
  },
  {
   "cell_type": "markdown",
   "id": "d6cb8c84-79ab-4ac8-a68f-86bdbc77e6eb",
   "metadata": {},
   "source": [
    "#### Question-7"
   ]
  },
  {
   "cell_type": "markdown",
   "id": "3cf3a4a3-6bd9-4108-9c77-2ddbe89e55fc",
   "metadata": {},
   "source": [
    "<aside>\n",
    "💡 **Q7.** Given an integer array nums, move all 0's to the end of it while maintaining the relative order of the nonzero elements.\n",
    "\n",
    "Note that you must do this in-place without making a copy of the array.\n",
    "\n",
    "**Example 1:**\n",
    "Input: nums = [0,1,0,3,12]\n",
    "Output: [1,3,12,0,0]\n",
    "\n",
    "</aside>"
   ]
  },
  {
   "cell_type": "code",
   "execution_count": 79,
   "id": "85170d05-b8c8-4bb5-af73-e564231c4de7",
   "metadata": {},
   "outputs": [
    {
     "name": "stdin",
     "output_type": "stream",
     "text": [
      "Enter the number of elements present in the array:  5\n",
      "Enter element at index-0:  0\n",
      "Enter element at index-1:  1\n",
      "Enter element at index-2:  0\n",
      "Enter element at index-3:  3\n",
      "Enter element at index-4:  12\n"
     ]
    },
    {
     "name": "stdout",
     "output_type": "stream",
     "text": [
      "Array is: [0, 1, 0, 3, 12]\n",
      "Output: [1, 3, 12, 0, 0]\n"
     ]
    }
   ],
   "source": [
    "num = int(input('Enter the number of elements present in the array: '))\n",
    "arr = []\n",
    "for i in range(num):\n",
    "    ele = int(input(f'Enter element at index-{i}: '))\n",
    "    arr.append(ele)\n",
    "print(f'Array is: {arr}')\n",
    "\n",
    "def zerolast(nums):\n",
    "    arr.sort(key=lambda x: x == 0)\n",
    "    return arr\n",
    "\n",
    "result = zerolast(nums)\n",
    "print(\"Output:\", result)"
   ]
  },
  {
   "cell_type": "markdown",
   "id": "6a4ca5a3-414f-4650-b4dd-8ae9961dd4d3",
   "metadata": {},
   "source": [
    "#### Question-8"
   ]
  },
  {
   "cell_type": "markdown",
   "id": "b3705618-ac8e-45f4-b048-bb847aeaeafb",
   "metadata": {},
   "source": [
    "<aside>\n",
    "💡 **Q8.** You have a set of integers s, which originally contains all the numbers from 1 to n. Unfortunately, due to some error, one of the numbers in s got duplicated to another number in the set, which results in repetition of one number and loss of another number.\n",
    "\n",
    "You are given an integer array nums representing the data status of this set after the error.\n",
    "\n",
    "Find the number that occurs twice and the number that is missing and return them in the form of an array.\n",
    "\n",
    "**Example 1:**\n",
    "Input: nums = [1,2,2,4]\n",
    "Output: [2,3]\n",
    "\n",
    "</aside>"
   ]
  },
  {
   "cell_type": "code",
   "execution_count": 84,
   "id": "a96038ef-2a9a-4d09-93d7-6abc8537c5bf",
   "metadata": {},
   "outputs": [
    {
     "name": "stdin",
     "output_type": "stream",
     "text": [
      "Enter the number of elements present in the array:  4\n",
      "Enter element at index-0:  1\n",
      "Enter element at index-1:  2\n",
      "Enter element at index-2:  2\n",
      "Enter element at index-3:  4\n"
     ]
    },
    {
     "name": "stdout",
     "output_type": "stream",
     "text": [
      "Array is: [1, 2, 2, 4]\n"
     ]
    },
    {
     "data": {
      "text/plain": [
       "[1, 2]"
      ]
     },
     "execution_count": 84,
     "metadata": {},
     "output_type": "execute_result"
    }
   ],
   "source": [
    "num = int(input('Enter the number of elements present in the array: '))\n",
    "arr = []\n",
    "for i in range(num):\n",
    "    ele = int(input(f'Enter element at index-{i}: '))\n",
    "    arr.append(ele)\n",
    "print(f'Array is: {arr}')\n",
    "\n",
    "def duplicate_val(num,arr):\n",
    "    for i in range(num):\n",
    "        for j in range(i+1,num):\n",
    "            if(arr[i]==arr[j]):\n",
    "                return [i,j]\n",
    "    return 'NULL'\n",
    "duplicate_val(num,arr)"
   ]
  },
  {
   "cell_type": "code",
   "execution_count": null,
   "id": "9cb4151f-b9b1-4d41-8440-866df2fd3707",
   "metadata": {},
   "outputs": [],
   "source": []
  }
 ],
 "metadata": {
  "kernelspec": {
   "display_name": "Python 3 (ipykernel)",
   "language": "python",
   "name": "python3"
  },
  "language_info": {
   "codemirror_mode": {
    "name": "ipython",
    "version": 3
   },
   "file_extension": ".py",
   "mimetype": "text/x-python",
   "name": "python",
   "nbconvert_exporter": "python",
   "pygments_lexer": "ipython3",
   "version": "3.10.8"
  }
 },
 "nbformat": 4,
 "nbformat_minor": 5
}
