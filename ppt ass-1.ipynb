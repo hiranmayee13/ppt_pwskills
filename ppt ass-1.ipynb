{
 "cells": [
  {
   "cell_type": "code",
   "execution_count": 1,
   "id": "5b280e42-6c0e-4e1e-b765-f4c2c291a064",
   "metadata": {},
   "outputs": [
    {
     "name": "stdin",
     "output_type": "stream",
     "text": [
      "Enter no. of Elements present in array: 5\n",
      "Enter index-0 element: 1\n",
      "Enter index-1 element: 3\n",
      "Enter index-2 element: 6\n",
      "Enter index-3 element: 3\n",
      "Enter index-4 element: 2\n"
     ]
    },
    {
     "name": "stdout",
     "output_type": "stream",
     "text": [
      "Array is :[1, 3, 6, 3, 2]\n"
     ]
    },
    {
     "name": "stdin",
     "output_type": "stream",
     "text": [
      "Enter Target Element : 7\n"
     ]
    },
    {
     "name": "stdout",
     "output_type": "stream",
     "text": [
      "[0, 2]\n"
     ]
    }
   ],
   "source": [
    "\"\"\"\n",
    "💡 **Q1.** Given an array of integers nums and an integer target, return indices of the two numbers such that they add up to target.\n",
    "You may assume that each input would have exactly one solution, and you may not use the same element twice.\n",
    "\n",
    "You can return the answer in any order.\n",
    "\n",
    "Example: Input: nums = [2,7,11,15], target = 9 Output0 [0,1]\n",
    "\n",
    "Explanation: Because nums[0] + nums[1] == 9, we return [0, 1]\"\"\"\n",
    "num = int(input('Enter no. of Elements present in array:'))\n",
    "arr = []\n",
    "for i in range(num):\n",
    "    ele = int(input(f'Enter index-{i} element:'))\n",
    "    arr.append(ele)\n",
    "print(f'Array is :{arr}')\n",
    "target = int(input('Enter Target Element :'))\n",
    "\n",
    "def sum_checkta(target,num,arr):\n",
    "    for j in range(num):\n",
    "        for k in range(j+1,num):\n",
    "            if(arr[j]+arr[k]==target):\n",
    "                return [j,k]\n",
    "ans = sum_checkta(target,num,arr)\n",
    "print(ans)"
   ]
  },
  {
   "cell_type": "code",
   "execution_count": null,
   "id": "226d3ab3-56f5-4b7a-ba5b-df0c352b2c9b",
   "metadata": {},
   "outputs": [],
   "source": [
    "\n",
    "💡 **Q2.** Given an integer array nums and an integer val, remove all occurrences of val in nums in-place. The order of the elements may be changed. Then return the number of elements in nums which are not equal to val.\n",
    "\n",
    "Consider the number of elements in nums which are not equal to val be k, to get accepted, you need to do the following things:\n",
    "\n",
    "- Change the array nums such that the first k elements of nums contain the elements which are not equal to val. The remaining elements of nums are not important as well as the size of nums.\n",
    "- Return k.\n",
    "\n",
    "**Example :**\n",
    "Input: nums = [3,2,2,3], val = 3\n",
    "Output: 2, nums = [2,2,_*,_*]\n",
    "\n",
    "**Explanation:** Your function should return k = 2, with the first two elements of nums being 2. It does not matter what you leave beyond the returned k (hence they are underscores)["
   ]
  },
  {
   "cell_type": "code",
   "execution_count": 15,
   "id": "a65feb3a-775b-4058-b0b6-c90f23631649",
   "metadata": {},
   "outputs": [
    {
     "name": "stdin",
     "output_type": "stream",
     "text": [
      "enter the number of the elements 4\n",
      "enter the value at position 0 3\n",
      "enter the value at position 1 2\n",
      "enter the value at position 2 2\n",
      "enter the value at position 3 3\n"
     ]
    },
    {
     "name": "stdout",
     "output_type": "stream",
     "text": [
      "[3, 2, 2, 3]\n"
     ]
    },
    {
     "name": "stdin",
     "output_type": "stream",
     "text": [
      "enter the no to remove 2\n"
     ]
    },
    {
     "name": "stdout",
     "output_type": "stream",
     "text": [
      "2\n",
      "[3, 3]\n"
     ]
    }
   ],
   "source": [
    "num=int(input(\"enter the number of the elements\"))\n",
    "arr=[]\n",
    "\n",
    "for i in range(num):\n",
    "    ele=int(input(f\"enter the value at position {i}\"))\n",
    "    arr.append(ele)\n",
    "print(arr)\n",
    "rem=int(input(\"enter the no to remove\"))\n",
    "def remove(num,arr,rem):\n",
    "    i=0\n",
    "    for j in range(num):\n",
    "        if(arr[j]!=rem):\n",
    "            arr[i]=arr[j]\n",
    "            i=i+1\n",
    "    return i\n",
    "val=remove(num,arr,rem)\n",
    "print(val)\n",
    "print(arr[:val])"
   ]
  },
  {
   "cell_type": "code",
   "execution_count": null,
   "id": "0a8c4b18-0a9d-459d-ac77-1f6ae7370aeb",
   "metadata": {},
   "outputs": [],
   "source": [
    "\n",
    "💡 **Q3.** Given a sorted array of distinct integers and a target value, return the index if the target is found. If not, return the index where it would be if it were inserted in order.\n",
    "\n",
    "You must write an algorithm with O(log n) runtime complexity.\n",
    "\n",
    "**Example 1:**\n",
    "Input: nums = [1,3,5,6], target = 5\n",
    "\n",
    "Output: 2\n",
    "\n"
   ]
  },
  {
   "cell_type": "code",
   "execution_count": null,
   "id": "39e1588b-8ac6-4234-a10b-6b0df946cdf5",
   "metadata": {},
   "outputs": [
    {
     "name": "stdin",
     "output_type": "stream",
     "text": [
      "enter the number of the elements 4\n",
      "enter the value at position 0 1\n",
      "enter the value at position 1 3\n",
      "enter the value at position 2 5\n",
      "enter the value at position 3 6\n"
     ]
    },
    {
     "name": "stdout",
     "output_type": "stream",
     "text": [
      "[1, 3, 5, 6]\n"
     ]
    },
    {
     "name": "stdin",
     "output_type": "stream",
     "text": [
      "enter the target value 5\n"
     ]
    },
    {
     "name": "stdout",
     "output_type": "stream",
     "text": [
      "index position = 2\n"
     ]
    }
   ],
   "source": [
    "num=int(input(\"enter the number of the elements\"))\n",
    "arr=[]\n",
    "\n",
    "for i in range(num):\n",
    "    ele=int(input(f\"enter the value at position {i}\"))\n",
    "    arr.append(ele)\n",
    "print(arr)\n",
    "tar=int(input(\"enter the target value\"))\n",
    "def sort(num,arr,tar):\n",
    "    i=0\n",
    "    for j in range(num):\n",
    "        if(arr[j]==tar):\n",
    "            return j\n",
    "        else:\n",
    "            if(arr[i]<tar):\n",
    "                i=i+1\n",
    "            else:\n",
    "                return i\n",
    "        \n",
    "val=sort(num,arr,tar)\n",
    "print(f\"index position = {val}\")"
   ]
  },
  {
   "cell_type": "code",
   "execution_count": null,
   "id": "11b2ade0-a3d3-4b92-9b6f-d1568fc8cddc",
   "metadata": {},
   "outputs": [],
   "source": [
    "\n",
    "💡 **Q4.** You are given a large integer represented as an integer array digits, where each digits[i] is the ith digit of the integer. The digits are ordered from most significant to least significant in left-to-right order. The large integer does not contain any leading 0's.\n",
    "\n",
    "Increment the large integer by one and return the resulting array of digits.\n",
    "\n",
    "**Example 1:**\n",
    "Input: digits = [1,2,3]\n",
    "Output: [1,2,4]\n",
    "\n",
    "**Explanation:** The array represents the integer 123.\n",
    "\n",
    "Incrementing by one gives 123 + 1 = 124.\n",
    "Thus, the result should be [1,2,4].\n"
   ]
  },
  {
   "cell_type": "code",
   "execution_count": 1,
   "id": "f070fbbe-2af0-490a-8e29-e9ce13965a51",
   "metadata": {},
   "outputs": [
    {
     "name": "stdin",
     "output_type": "stream",
     "text": [
      "Enter the number of elements in array :  3\n",
      "Enter the 0 element : 1\n",
      "Enter the 1 element : 2\n",
      "Enter the 2 element : 9\n"
     ]
    },
    {
     "name": "stdout",
     "output_type": "stream",
     "text": [
      "The Array is  [1, 2, 9]\n",
      "Result :  [1, 3, 0]\n"
     ]
    }
   ],
   "source": [
    "nums = int(input(\"Enter the number of elements in array : \"))\n",
    "arr = []\n",
    "for i in range(nums):\n",
    "    arr.append(int(input(f'Enter the {i} element :')))\n",
    "print(\"The Array is \",arr)\n",
    "\n",
    "def number(arr):\n",
    "    s = \"\"\n",
    "    ans = []\n",
    "    for i in arr:\n",
    "        s = s + str(i)\n",
    "    num = int(s)\n",
    "    temp_num = num + 1\n",
    "    while(temp_num > 0):\n",
    "        r = temp_num % 10\n",
    "        ans.append(r)\n",
    "        temp_num = temp_num // 10\n",
    "    return ans\n",
    "ans = number(arr)\n",
    "ans.reverse()\n",
    "print(\"Result : \",ans)"
   ]
  },
  {
   "cell_type": "code",
   "execution_count": null,
   "id": "907e20f8-321c-451f-a50e-4cd8928f6893",
   "metadata": {},
   "outputs": [],
   "source": [
    "\n",
    "💡 **Q5.** You are given two integer arrays nums1 and nums2, sorted in non-decreasing order, and two integers m and n, representing the number of elements in nums1 and nums2 respectively.\n",
    "\n",
    "Merge nums1 and nums2 into a single array sorted in non-decreasing order.\n",
    "\n",
    "The final sorted array should not be returned by the function, but instead be stored inside the array nums1. To accommodate this, nums1 has a length of m + n, where the first m elements denote the elements that should be merged, and the last n elements are set to 0 and should be ignored. nums2 has a length of n.\n"
   ]
  },
  {
   "cell_type": "code",
   "execution_count": 2,
   "id": "d4233467-9a1a-4a83-a8d8-8e03a7ce9719",
   "metadata": {},
   "outputs": [
    {
     "name": "stdin",
     "output_type": "stream",
     "text": [
      "enter the no of elements in array nums1 3\n",
      "enter the no of elements in array nums2 3\n"
     ]
    },
    {
     "name": "stdout",
     "output_type": "stream",
     "text": [
      "num1 array\n"
     ]
    },
    {
     "name": "stdin",
     "output_type": "stream",
     "text": [
      "enter the value at position 0 1\n",
      "enter the value at position 1 2\n",
      "enter the value at position 2 3\n",
      "enter the value at position 3 0\n",
      "enter the value at position 4 0\n",
      "enter the value at position 5 0\n"
     ]
    },
    {
     "name": "stdout",
     "output_type": "stream",
     "text": [
      "num2 array\n"
     ]
    },
    {
     "name": "stdin",
     "output_type": "stream",
     "text": [
      "enter the value at position 0 4\n",
      "enter the value at position 1 5\n",
      "enter the value at position 2 6\n"
     ]
    },
    {
     "name": "stdout",
     "output_type": "stream",
     "text": [
      "[1, 2, 3, 4, 5, 6]\n"
     ]
    }
   ],
   "source": [
    "m=int(input(\"enter the no of elements in array nums1\"))\n",
    "n=int(input(\"enter the no of elements in array nums2\"))\n",
    "nums1=[]\n",
    "nums2=[]\n",
    "print(\"num1 array\")\n",
    "for i in range(m+n):\n",
    "    ele=int(input(f\"enter the value at position {i}\"))\n",
    "    nums1.append(ele)\n",
    "print(\"num2 array\")\n",
    "for i in range(n):\n",
    "    ele=int(input(f\"enter the value at position {i}\"))\n",
    "    nums2.append(ele)\n",
    "for i in range(n):\n",
    "    nums1[m]=nums2[i]\n",
    "    m=m+1\n",
    "print(nums1)\n",
    "      \n",
    "    \n"
   ]
  },
  {
   "cell_type": "code",
   "execution_count": null,
   "id": "0448ca03-6c16-4ce5-b3ca-33ce6a6e0704",
   "metadata": {},
   "outputs": [],
   "source": [
    "\n",
    "💡 **Q6.** Given an integer array nums, return true if any value appears at least twice in the array,\n",
    "and return false if every element is distinct.\n",
    "\n",
    "**Example 1:**\n",
    "Input: nums = [1,2,3,1]\n",
    "\n",
    "Output: true\n",
    "\n"
   ]
  },
  {
   "cell_type": "code",
   "execution_count": 9,
   "id": "1be3770a-35ef-4f37-bdb8-04fbace8fd8a",
   "metadata": {},
   "outputs": [
    {
     "name": "stdin",
     "output_type": "stream",
     "text": [
      "enter the number of elements 4\n",
      "enter the element at position 0 1\n",
      "enter the element at position 1 2\n",
      "enter the element at position 2 2\n",
      "enter the element at position 3 3\n"
     ]
    },
    {
     "name": "stdout",
     "output_type": "stream",
     "text": [
      "array =  [1, 2, 2, 3]\n",
      "true\n"
     ]
    }
   ],
   "source": [
    "n=int(input(\"enter the number of elements\"))\n",
    "nums=[]\n",
    "for i in range(n):\n",
    "    nums.append(int(input(f\"enter the element at position {i}\")))\n",
    "print(\"array = \",nums)\n",
    "c=0\n",
    "for i in range(n):\n",
    "    for j in range(i+1,n):\n",
    "        if(arr[i]==arr[j]):\n",
    "            c=1\n",
    "if(c==0):\n",
    "    print(\"false\")\n",
    "else:\n",
    "    print(\"true\")"
   ]
  },
  {
   "cell_type": "code",
   "execution_count": null,
   "id": "944e93be-033f-433c-87a0-23daf28789c0",
   "metadata": {},
   "outputs": [],
   "source": [
    "\n",
    "💡 **Q7.** Given an integer array nums, move all 0's to the end of it while maintaining the relative order \n",
    "of the nonzero elements.\n",
    "\n",
    "Note that you must do this in-place without making a copy of the array.\n",
    "\n",
    "**Example 1:**\n",
    "Input: nums = [0,1,0,3,12]\n",
    "Output: [1,3,12,0,0]\n",
    "\n"
   ]
  },
  {
   "cell_type": "code",
   "execution_count": 16,
   "id": "77be19bf-67f9-47c7-9a68-7a5e53268e3f",
   "metadata": {},
   "outputs": [
    {
     "name": "stdin",
     "output_type": "stream",
     "text": [
      "Enter the number of elements present in the array:  4\n",
      "Enter element at index 0:  1\n",
      "Enter element at index 1:  2\n",
      "Enter element at index 2:  3\n",
      "Enter element at index 3:  4\n"
     ]
    },
    {
     "name": "stdout",
     "output_type": "stream",
     "text": [
      "Array is: [1, 2, 3, 4]\n",
      "Output: [1, 2, 3, 4]\n"
     ]
    }
   ],
   "source": [
    "num = int(input('Enter the number of elements present in the array: '))\n",
    "arr = []\n",
    "for i in range(num):\n",
    "    ele = int(input(f'Enter element at index {i}: '))\n",
    "    arr.append(ele)\n",
    "print(f'Array is: {arr}')\n",
    "\n",
    "def zerolast(num):\n",
    "    arr.sort(key=lambda x: x == 0)\n",
    "    return arr\n",
    "\n",
    "result = zerolast(num)\n",
    "print(\"Output:\", result)"
   ]
  },
  {
   "cell_type": "code",
   "execution_count": null,
   "id": "0d9301d3-a332-4615-986f-004d685f4bcd",
   "metadata": {},
   "outputs": [],
   "source": [
    "\n",
    "💡 **Q8.** You have a set of integers s, which originally contains all the numbers from 1 to n. \n",
    "Unfortunately, due to some error, one of the numbers in s got duplicated to another number in the set,\n",
    "which results in repetition of one number and loss of another number.\n",
    "\n",
    "You are given an integer array nums representing the data status of this set after the error.\n",
    "\n",
    "Find the number that occurs twice and the number that is missing and return them in the form of an array.\n",
    "\n",
    "**Example 1:**\n",
    "Input: nums = [1,2,2,4]\n",
    "Output: [2,3]\n",
    "\n"
   ]
  },
  {
   "cell_type": "code",
   "execution_count": 4,
   "id": "28ee535c-93aa-4f4f-b102-e06830b53938",
   "metadata": {},
   "outputs": [
    {
     "name": "stdin",
     "output_type": "stream",
     "text": [
      "enter the number of elements 5\n",
      "enter the elements at position 0 1\n",
      "enter the elements at position 1 2\n",
      "enter the elements at position 2 2\n",
      "enter the elements at position 3 3\n",
      "enter the elements at position 4 4\n"
     ]
    },
    {
     "name": "stdout",
     "output_type": "stream",
     "text": [
      "[1, 2, 2, 3, 4]\n",
      "no duplicate values\n"
     ]
    }
   ],
   "source": [
    "n=int(input(\"enter the number of elements\"))\n",
    "nums=[]\n",
    "for i in range(n):\n",
    "    nums.append(int(input(f\"enter the elements at position {i}\")))\n",
    "print(nums)\n",
    "def twice(nums,n):\n",
    "    for i in range(n):\n",
    "        for j in range(i+1,n):\n",
    "            if(nums[i]==nums[j]):\n",
    "                return([nums[i],nums[i]+1])\n",
    "            return(\"no duplicate values\")\n",
    "ans=twice(nums,n)\n",
    "print(ans)\n",
    "        \n",
    "    \n"
   ]
  },
  {
   "cell_type": "code",
   "execution_count": null,
   "id": "9de6abc8-4c3b-4db1-aebf-423efd67efb1",
   "metadata": {},
   "outputs": [],
   "source": []
  }
 ],
 "metadata": {
  "kernelspec": {
   "display_name": "Python 3 (ipykernel)",
   "language": "python",
   "name": "python3"
  },
  "language_info": {
   "codemirror_mode": {
    "name": "ipython",
    "version": 3
   },
   "file_extension": ".py",
   "mimetype": "text/x-python",
   "name": "python",
   "nbconvert_exporter": "python",
   "pygments_lexer": "ipython3",
   "version": "3.10.8"
  }
 },
 "nbformat": 4,
 "nbformat_minor": 5
}
