{
 "cells": [
  {
   "cell_type": "markdown",
   "id": "ba154ef4-1215-4445-9bf5-a3d7224c4c1a",
   "metadata": {},
   "source": [
    "<aside>\n",
    "💡 **Question 1**\n",
    "Given three integer arrays arr1, arr2 and arr3 **sorted** in **strictly increasing** order, return a sorted array of **only** the integers that appeared in **all** three arrays.\n",
    "\n",
    "**Example 1:**\n",
    "\n",
    "Input: arr1 = [1,2,3,4,5], arr2 = [1,2,5,7,9], arr3 = [1,3,4,5,8]\n",
    "\n",
    "Output: [1,5]\n",
    "\n",
    "**Explanation:** Only 1 and 5 appeared in the three arrays.\n",
    "\n",
    "</aside>"
   ]
  },
  {
   "cell_type": "code",
   "execution_count": 1,
   "id": "04e8d649-0856-4ced-bf53-91755df5db7a",
   "metadata": {},
   "outputs": [
    {
     "name": "stdout",
     "output_type": "stream",
     "text": [
      "[1, 5]\n"
     ]
    }
   ],
   "source": [
    "arr1 = [1,2,3,4,5]\n",
    "arr2 = [1,2,5,7,9]\n",
    "arr3 = [1,3,4,5,8]\n",
    "\n",
    "def find_common_elements(arr1, arr2, arr3):\n",
    "    p1 = p2 = p3 = 0\n",
    "    result = []\n",
    "\n",
    "    while p1 < len(arr1) and p2 < len(arr2) and p3 < len(arr3):\n",
    "        if arr1[p1] == arr2[p2] == arr3[p3]:\n",
    "            result.append(arr1[p1])\n",
    "            p1 += 1\n",
    "            p2 += 1\n",
    "            p3 += 1\n",
    "        elif arr1[p1] < arr2[p2]:\n",
    "            p1 += 1\n",
    "        elif arr2[p2] < arr3[p3]:\n",
    "            p2 += 1\n",
    "        else:\n",
    "            p3 += 1\n",
    "\n",
    "    return result\n",
    "\n",
    "result = find_common_elements(arr1, arr2, arr3)\n",
    "print(result)"
   ]
  },
  {
   "cell_type": "markdown",
   "id": "69da67d8-aa4c-4d96-ae27-ca768f59acd7",
   "metadata": {},
   "source": [
    "Question-2\n",
    "💡 **Question 2**\n",
    "Given two 0-indexed integer arrays nums1 and nums2, return a list answer of size 2 where:\n",
    "\n",
    "answer[0] is a list of all distinct* integers in* nums1 which are not* present in* nums2.\n",
    "answer[1] is a list of all distinct* integers in* nums2 which are not* present in* nums1.\n",
    "Note that the integers in the lists may be returned in any order.\n",
    "\n",
    "Example 1:\n",
    "\n",
    "Input: nums1 = [1,2,3], nums2 = [2,4,6]\n",
    "\n",
    "Output: [[1,3],[4,6]]\n",
    "\n",
    "Explanation:\n",
    "\n",
    "For nums1, nums1[1] = 2 is present at index 0 of nums2, whereas nums1[0] = 1 and nums1[2] = 3 are not present in nums2. Therefore, answer[0] = [1,3].\n",
    "\n",
    "For nums2, nums2[0] = 2 is present at index 1 of nums1, whereas nums2[1] = 4 and nums2[2] = 6 are not present in nums2. Therefore, answer[1] = [4,6]."
   ]
  },
  {
   "cell_type": "code",
   "execution_count": 3,
   "id": "fcef9f6b-8505-40c4-aff6-c52575113075",
   "metadata": {},
   "outputs": [
    {
     "name": "stdout",
     "output_type": "stream",
     "text": [
      "[[1, 3], [4, 6]]\n"
     ]
    }
   ],
   "source": [
    "nums1 = [1, 2, 3]\n",
    "nums2 = [2, 4, 6]\n",
    "\n",
    "def find_disjoint_elements(nums1, nums2):\n",
    "    unique_nums1 = set(nums1)\n",
    "    unique_nums2 = set(nums2)\n",
    "\n",
    "    answer_nums1 = [num for num in nums1 if num not in unique_nums2]\n",
    "    answer_nums2 = [num for num in nums2 if num not in unique_nums1]\n",
    "\n",
    "    return [answer_nums1, answer_nums2]\n",
    "\n",
    "result = find_disjoint_elements(nums1, nums2)\n",
    "print(result)"
   ]
  },
  {
   "cell_type": "markdown",
   "id": "1bf677a1-cafe-4d05-bd72-fd8d02c11ec9",
   "metadata": {},
   "source": [
    "Queston-3\n",
    "💡 **Question 3** Given a 2D integer array matrix, return *the **transpose** of* matrix.\n",
    "The transpose of a matrix is the matrix flipped over its main diagonal, switching the matrix's row and column indices.\n",
    "\n",
    "Example 1:\n",
    "\n",
    "Input: matrix = [[1,2,3],[4,5,6],[7,8,9]]\n",
    "\n",
    "Output: [[1,4,7],[2,5,8],[3,6,9]]"
   ]
  },
  {
   "cell_type": "code",
   "execution_count": 4,
   "id": "e0d90991-3cef-4682-82fa-54be637d31fb",
   "metadata": {},
   "outputs": [
    {
     "name": "stdout",
     "output_type": "stream",
     "text": [
      "[[1, 4, 7], [2, 5, 8], [3, 6, 9]]\n"
     ]
    }
   ],
   "source": [
    "matrix = [[1, 2, 3], [4, 5, 6], [7, 8, 9]]\n",
    "\n",
    "def transpose(matrix):\n",
    "    return [list(row) for row in zip(*matrix)]\n",
    "\n",
    "\n",
    "result = transpose(matrix)\n",
    "print(result) "
   ]
  },
  {
   "cell_type": "markdown",
   "id": "6f523508-b732-44a8-ab9b-ac5ba1a8828d",
   "metadata": {},
   "source": [
    "Question-4\n",
    "💡 **Question 4** Given an integer array nums of 2n integers, group these integers into n pairs (a1, b1), (a2, b2), ..., (an, bn) such that the sum of min(ai, bi) for all i is **maximized**. Return *the maximized sum*.\n",
    "Example 1:\n",
    "\n",
    "Input: nums = [1,4,3,2]\n",
    "\n",
    "Output: 4\n",
    "\n",
    "Explanation: All possible pairings (ignoring the ordering of elements) are:\n",
    "\n",
    "(1, 4), (2, 3) -> min(1, 4) + min(2, 3) = 1 + 2 = 3\n",
    "\n",
    "(1, 3), (2, 4) -> min(1, 3) + min(2, 4) = 1 + 2 = 3\n",
    "\n",
    "(1, 2), (3, 4) -> min(1, 2) + min(3, 4) = 1 + 3 = 4\n",
    "\n",
    "So the maximum possible sum is 4."
   ]
  },
  {
   "cell_type": "code",
   "execution_count": 5,
   "id": "c9b89b5b-8c55-4c25-9aa0-497779dea94c",
   "metadata": {},
   "outputs": [
    {
     "name": "stdout",
     "output_type": "stream",
     "text": [
      "maximum possible sum is : 4\n"
     ]
    }
   ],
   "source": [
    "nums = [1, 4, 3, 2]\n",
    "\n",
    "def array_pair_sum(nums):\n",
    "    nums.sort()\n",
    "    max_sum = 0\n",
    "\n",
    "    for i in range(0, len(nums), 2):\n",
    "        max_sum += nums[i]\n",
    "\n",
    "    return max_sum\n",
    "\n",
    "result = array_pair_sum(nums)\n",
    "print(\"maximum possible sum is :\",result) "
   ]
  },
  {
   "cell_type": "markdown",
   "id": "61ac38df-fd98-4032-9ba3-3ece14cf10d9",
   "metadata": {},
   "source": [
    "Question-5\n",
    "💡 **Question 5** You have n coins and you want to build a staircase with these coins. The staircase consists of k rows where the ith row has exactly i coins. The last row of the staircase **may be** incomplete.\n",
    "Given the integer n, return the number of complete rows* of the staircase you will build*.\n",
    "\n"
   ]
  },
  {
   "cell_type": "code",
   "execution_count": 6,
   "id": "a201f5c8-ca67-4877-8cf0-8d10e17e85dd",
   "metadata": {},
   "outputs": [
    {
     "name": "stdout",
     "output_type": "stream",
     "text": [
      "Because the 3rd row is incomplete, we return : 2\n"
     ]
    }
   ],
   "source": [
    "n=5\n",
    "\n",
    "def arrange_coins(n):\n",
    "    k = 0\n",
    "    total = 0\n",
    "\n",
    "    while total <= n:\n",
    "        k += 1\n",
    "        total += k\n",
    "\n",
    "    return k - 1\n",
    "\n",
    "result = arrange_coins(n)\n",
    "print('Because the 3rd row is incomplete, we return :',result) "
   ]
  },
  {
   "cell_type": "markdown",
   "id": "c63b8ac9-69e9-4639-8713-c92c6705e7c3",
   "metadata": {},
   "source": [
    "💡 Question 6 Given an integer array nums sorted in non-decreasing order, return an array of the squares of each number* sorted in non-decreasing order*.\n",
    "Example 1:\n",
    "\n",
    "Input: nums = [-4,-1,0,3,10]\n",
    "\n",
    "Output: [0,1,9,16,100]\n",
    "\n",
    "Explanation: After squaring, the array becomes [16,1,0,9,100]. After sorting, it becomes [0,1,9,16,100]"
   ]
  },
  {
   "cell_type": "code",
   "execution_count": 7,
   "id": "024d8460-0b29-49e7-ba47-2ac2123c4b0e",
   "metadata": {},
   "outputs": [
    {
     "name": "stdout",
     "output_type": "stream",
     "text": [
      " After squaring, the array becomes [0, 1, 9, 16, 100]\n"
     ]
    }
   ],
   "source": [
    "nums = [-4, -1, 0, 3, 10]\n",
    "\n",
    "def sorted_squares(nums):\n",
    "    squared_nums = []\n",
    "\n",
    "    for num in nums:\n",
    "        squared_nums.append(num ** 2)\n",
    "\n",
    "    squared_nums.sort()\n",
    "\n",
    "    return squared_nums\n",
    "\n",
    "result = sorted_squares(nums)\n",
    "print(' After squaring, the array becomes',result) "
   ]
  },
  {
   "cell_type": "code",
   "execution_count": null,
   "id": "e29eb57b-259f-4283-8b3e-d0bf7f9bed17",
   "metadata": {},
   "outputs": [],
   "source": [
    "Question-7\n",
    "💡 **Question 7** You are given an m x n matrix M initialized with all 0's and an array of operations ops, where ops[i] = [ai, bi] means M[x][y] should be incremented by one for all 0 <= x < ai and 0 <= y < bi.\n",
    "Count and return the number of maximum integers in the matrix after performing all the operations\n"
   ]
  },
  {
   "cell_type": "code",
   "execution_count": 8,
   "id": "3907821b-cfc7-47a4-a977-bfcc760b10cb",
   "metadata": {},
   "outputs": [
    {
     "name": "stdout",
     "output_type": "stream",
     "text": [
      "maximum integer in M is 2, and there are four of it in M. So return:--> 4\n"
     ]
    }
   ],
   "source": [
    "m = 3\n",
    "n = 3\n",
    "ops = [[2, 2], [3, 3]]\n",
    "\n",
    "def max_count(m, n, ops):\n",
    "    min_rows = m\n",
    "    min_cols = n\n",
    "\n",
    "    for op in ops:\n",
    "        min_rows = min(min_rows, op[0])\n",
    "        min_cols = min(min_cols, op[1])\n",
    "\n",
    "    return min_rows * min_cols\n",
    "\n",
    "result = max_count(m, n, ops)\n",
    "print(\"maximum integer in M is 2, and there are four of it in M. So return:-->\",result)"
   ]
  },
  {
   "cell_type": "markdown",
   "id": "3162bc56-a4ba-401a-9962-2a57cf9c4060",
   "metadata": {},
   "source": [
    "Queestion-8\n",
    "💡 **Question 8**\n",
    "Given the array nums consisting of 2n elements in the form [x1,x2,...,xn,y1,y2,...,yn].\n",
    "\n",
    "Return the array in the form [x1,y1,x2,y2,...,xn,yn].\n",
    "\n",
    "Example 1:\n",
    "\n",
    "Input: nums = [2,5,1,3,4,7], n = 3\n",
    "\n",
    "Output: [2,3,5,4,1,7]\n",
    "\n",
    "Explanation: Since x1=2, x2=5, x3=1, y1=3, y2=4, y3=7 then the answer is [2,3,5,4,1,7]."
   ]
  },
  {
   "cell_type": "code",
   "execution_count": 9,
   "id": "09ae7248-78ab-46cb-ada7-e9d202631bb5",
   "metadata": {},
   "outputs": [
    {
     "name": "stdout",
     "output_type": "stream",
     "text": [
      "[2, 3, 5, 4, 1, 7]\n"
     ]
    }
   ],
   "source": [
    "nums = [2, 5, 1, 3, 4, 7]\n",
    "n = 3\n",
    "\n",
    "def rearrange_array(nums, n):\n",
    "    result = []\n",
    "\n",
    "    for i in range(n):\n",
    "        result.append(nums[i])\n",
    "        result.append(nums[i + n])\n",
    "\n",
    "    return result\n",
    "\n",
    "result = rearrange_array(nums, n)\n",
    "print(result)"
   ]
  },
  {
   "cell_type": "code",
   "execution_count": null,
   "id": "a4319aaa-e2e9-4ddf-a6a8-dfbfbb9eb1df",
   "metadata": {},
   "outputs": [],
   "source": []
  }
 ],
 "metadata": {
  "kernelspec": {
   "display_name": "Python 3 (ipykernel)",
   "language": "python",
   "name": "python3"
  },
  "language_info": {
   "codemirror_mode": {
    "name": "ipython",
    "version": 3
   },
   "file_extension": ".py",
   "mimetype": "text/x-python",
   "name": "python",
   "nbconvert_exporter": "python",
   "pygments_lexer": "ipython3",
   "version": "3.10.8"
  }
 },
 "nbformat": 4,
 "nbformat_minor": 5
}
